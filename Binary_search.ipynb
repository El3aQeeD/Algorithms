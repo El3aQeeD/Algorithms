{
 "cells": [
  {
   "cell_type": "code",
   "execution_count": 11,
   "id": "fdfb4632",
   "metadata": {},
   "outputs": [],
   "source": [
    "def binary_search(sorted_list, target_value):\n",
    "    \n",
    "    begin_index = 0\n",
    "    end_index = len(sorted_list) - 1\n",
    "    \n",
    "    while begin_index <= end_index:\n",
    "        midpoint_index = begin_index + (end_index - begin_index) // 2\n",
    "        midpoint_value = sorted_list[midpoint_index]\n",
    "        print(midpoint_value)\n",
    "        if midpoint_value < target_value:\n",
    "            begin_index = midpoint_index + 1\n",
    "        elif midpoint_value > target_value:\n",
    "            end_index = midpoint_index - 1\n",
    "        else: \n",
    "            return midpoint_index\n",
    "    \n",
    "    return None\n",
    "            \n",
    "        "
   ]
  },
  {
   "cell_type": "code",
   "execution_count": 13,
   "id": "008e8283",
   "metadata": {},
   "outputs": [
    {
     "name": "stdout",
     "output_type": "stream",
     "text": [
      "12\n",
      "3\n",
      "2\n"
     ]
    }
   ],
   "source": [
    "binary_search([2,3,10,12,22,24,25], 1)"
   ]
  },
  {
   "cell_type": "code",
   "execution_count": null,
   "id": "813e37a8",
   "metadata": {},
   "outputs": [],
   "source": []
  }
 ],
 "metadata": {
  "kernelspec": {
   "display_name": "Python 3 (ipykernel)",
   "language": "python",
   "name": "python3"
  },
  "language_info": {
   "codemirror_mode": {
    "name": "ipython",
    "version": 3
   },
   "file_extension": ".py",
   "mimetype": "text/x-python",
   "name": "python",
   "nbconvert_exporter": "python",
   "pygments_lexer": "ipython3",
   "version": "3.9.13"
  }
 },
 "nbformat": 4,
 "nbformat_minor": 5
}
